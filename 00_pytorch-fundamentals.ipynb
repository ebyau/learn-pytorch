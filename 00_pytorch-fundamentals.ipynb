{
 "cells": [
  {
   "cell_type": "code",
   "execution_count": 2,
   "metadata": {},
   "outputs": [
    {
     "name": "stdout",
     "output_type": "stream",
     "text": [
      "2.0.1+cpu\n"
     ]
    }
   ],
   "source": [
    "import torch\n",
    "print(torch.__version__)"
   ]
  },
  {
   "cell_type": "markdown",
   "metadata": {},
   "source": [
    "# Introduction to Tensors"
   ]
  },
  {
   "cell_type": "code",
   "execution_count": 4,
   "metadata": {},
   "outputs": [
    {
     "name": "stdout",
     "output_type": "stream",
     "text": [
      "tensor(7)\n",
      "7\n"
     ]
    }
   ],
   "source": [
    "# scalars\n",
    "scalar  = torch.tensor(7)\n",
    "print(scalar)\n",
    "\n",
    "# get tensor back as regular integer\n",
    "print(scalar.item())"
   ]
  },
  {
   "cell_type": "code",
   "execution_count": 11,
   "metadata": {},
   "outputs": [
    {
     "name": "stdout",
     "output_type": "stream",
     "text": [
      "vector_a: tensor([7, 7])\n",
      "Dimensions of vector_a: 1\n",
      "Shape of vector_a: torch.Size([2])\n"
     ]
    }
   ],
   "source": [
    "# vectors \n",
    "vector_a  = torch.tensor([7,7])\n",
    "# print vector_a\n",
    "print(f'vector_a: {vector_a}')\n",
    "# getting the dimensions\n",
    "print(f'Dimensions of vector_a: {vector_a.ndim}')\n",
    "\n",
    "# shape of the vector\n",
    "print(f'Shape of vector_a: {vector_a.shape}')"
   ]
  },
  {
   "cell_type": "code",
   "execution_count": 22,
   "metadata": {},
   "outputs": [
    {
     "name": "stdout",
     "output_type": "stream",
     "text": [
      "matrix_a: tensor([[ 7,  8],\n",
      "        [ 9, 10]])\n",
      "Dimensions of matrix_a: 2\n",
      "Shape of matrix_a: torch.Size([2, 2])\n"
     ]
    }
   ],
   "source": [
    "# MATRIX\n",
    "MATRIX_a = torch.tensor([[7,8],\n",
    "                        [9,10] ])\n",
    "print(f'matrix_a: {MATRIX_a}')\n",
    "# getting the dimensions\n",
    "print(f'Dimensions of matrix_a: {MATRIX_a.ndim}')\n",
    "\n",
    "# shape of the vector\n",
    "print(f'Shape of matrix_a: {MATRIX_a.shape}')"
   ]
  },
  {
   "cell_type": "code",
   "execution_count": 24,
   "metadata": {},
   "outputs": [
    {
     "name": "stdout",
     "output_type": "stream",
     "text": [
      "Tensor_a: tensor([[[ 1,  2,  3],\n",
      "         [ 4,  6,  9],\n",
      "         [10, 56, 23]]]) \n",
      "\n",
      "Dimensions of TENSOR_a: 3 \n",
      "\n",
      "Shape of TENSOR_a: torch.Size([1, 3, 3])\n",
      "\n",
      "Element in Dimension 0: tensor([[ 1,  2,  3],\n",
      "        [ 4,  6,  9],\n",
      "        [10, 56, 23]])\n",
      "\n"
     ]
    }
   ],
   "source": [
    "# TENSORS\n",
    "TENSOR_a = torch.tensor([[[1,2,3],\n",
    "                          [4,6,9],\n",
    "                          [10,56,23]]])\n",
    "print(f'Tensor_a: {TENSOR_a} \\n')\n",
    "# getting the dimensions\n",
    "print(f'Dimensions of TENSOR_a: {TENSOR_a.ndim} \\n')\n",
    "\n",
    "# shape of the vector\n",
    "print(f'Shape of TENSOR_a: {TENSOR_a.shape}\\n')\n",
    "\n",
    "# shape of 1, 3 ,3 means we have a one 3 by 3 tensor\n",
    "print(f'Element in Dimension 0: {TENSOR_a[0]}\\n')"
   ]
  },
  {
   "cell_type": "markdown",
   "metadata": {},
   "source": [
    "### Random Tensors  \n"
   ]
  },
  {
   "cell_type": "code",
   "execution_count": 34,
   "metadata": {},
   "outputs": [
    {
     "name": "stdout",
     "output_type": "stream",
     "text": [
      "tensor([[0.8852, 0.2737, 0.2925, 0.0913],\n",
      "        [0.4599, 0.8431, 0.7110, 0.1341],\n",
      "        [0.1035, 0.2331, 0.3940, 0.5951]])\n"
     ]
    }
   ],
   "source": [
    "## Create random tensor of size 3,4\n",
    "\n",
    "random_tensor = torch.rand(3,4)\n",
    "print(random_tensor)"
   ]
  },
  {
   "cell_type": "markdown",
   "metadata": {},
   "source": [
    "### Zeros and Ones\n",
    "\n",
    "By default tensors are of float32 dtype"
   ]
  },
  {
   "cell_type": "code",
   "execution_count": 37,
   "metadata": {},
   "outputs": [
    {
     "data": {
      "text/plain": [
       "tensor([[0., 0., 0., 0.],\n",
       "        [0., 0., 0., 0.],\n",
       "        [0., 0., 0., 0.]])"
      ]
     },
     "execution_count": 37,
     "metadata": {},
     "output_type": "execute_result"
    }
   ],
   "source": [
    "### Create tensor of all zeros\n",
    "zeros = torch.zeros(size=(3,4))\n",
    "zeros"
   ]
  },
  {
   "cell_type": "code",
   "execution_count": 38,
   "metadata": {},
   "outputs": [
    {
     "data": {
      "text/plain": [
       "tensor([[1., 1., 1., 1.],\n",
       "        [1., 1., 1., 1.],\n",
       "        [1., 1., 1., 1.]])"
      ]
     },
     "execution_count": 38,
     "metadata": {},
     "output_type": "execute_result"
    }
   ],
   "source": [
    "### Create tensor of all ones\n",
    "ones = torch.ones(size=(3,4))\n",
    "ones"
   ]
  },
  {
   "cell_type": "markdown",
   "metadata": {},
   "source": [
    "### Creating a range of tensors and tensors-like"
   ]
  },
  {
   "cell_type": "code",
   "execution_count": 39,
   "metadata": {},
   "outputs": [
    {
     "data": {
      "text/plain": [
       "tensor([ 1,  2,  3,  4,  5,  6,  7,  8,  9, 10])"
      ]
     },
     "execution_count": 39,
     "metadata": {},
     "output_type": "execute_result"
    }
   ],
   "source": [
    "# using torch.arange\n",
    "one_to_ten = torch.arange(1,11)\n",
    "one_to_ten"
   ]
  },
  {
   "cell_type": "code",
   "execution_count": 41,
   "metadata": {},
   "outputs": [
    {
     "data": {
      "text/plain": [
       "tensor([0, 0, 0, 0, 0, 0, 0, 0, 0, 0])"
      ]
     },
     "execution_count": 41,
     "metadata": {},
     "output_type": "execute_result"
    }
   ],
   "source": [
    "### Creating tensors like\n",
    "ten_zeros = torch.zeros_like(input=one_to_ten)\n",
    "ten_zeros"
   ]
  },
  {
   "cell_type": "markdown",
   "metadata": {},
   "source": [
    "### Tensor Datatypes "
   ]
  },
  {
   "cell_type": "code",
   "execution_count": 48,
   "metadata": {},
   "outputs": [
    {
     "data": {
      "text/plain": [
       "torch.float32"
      ]
     },
     "execution_count": 48,
     "metadata": {},
     "output_type": "execute_result"
    }
   ],
   "source": [
    "float_32_tensor = torch.tensor([4.0,6.0,9.0],\n",
    "                               dtype=None,\n",
    "                               device=None,\n",
    "                               requires_grad=False)\n",
    "\n",
    "# print the data type\n",
    "float_32_tensor.dtype"
   ]
  },
  {
   "cell_type": "code",
   "execution_count": 44,
   "metadata": {},
   "outputs": [
    {
     "data": {
      "text/plain": [
       "tensor([25., 49., 64.], dtype=torch.float16)"
      ]
     },
     "execution_count": 44,
     "metadata": {},
     "output_type": "execute_result"
    }
   ],
   "source": [
    "x = torch.tensor([5,7,8],dtype=torch.float16)\n",
    "y = x.type(torch.uint8)\n",
    "\n",
    "x * y"
   ]
  },
  {
   "cell_type": "markdown",
   "metadata": {},
   "source": [
    "### Tensor Attributes\n",
    "\n",
    "1. Tensor not right datatype - to do get datattype from tensor, use `tensor.dtype`  \n",
    "2. Tensor not right shape - use `tensor.shape` to get shape of tensor\n",
    "3. Tensor not on right device - to get device from tensor use `tensor.device`"
   ]
  },
  {
   "cell_type": "code",
   "execution_count": 49,
   "metadata": {},
   "outputs": [
    {
     "data": {
      "text/plain": [
       "tensor([[0.3256, 0.7304, 0.2620, 0.3581],\n",
       "        [0.1345, 0.5460, 0.9285, 0.4208],\n",
       "        [0.0707, 0.3310, 0.1346, 0.1280]])"
      ]
     },
     "execution_count": 49,
     "metadata": {},
     "output_type": "execute_result"
    }
   ],
   "source": [
    "# Create tensor\n",
    "some_tensor = torch.rand(3,4)\n",
    "some_tensor"
   ]
  },
  {
   "cell_type": "code",
   "execution_count": 52,
   "metadata": {},
   "outputs": [
    {
     "name": "stdout",
     "output_type": "stream",
     "text": [
      "tensor([[0.3256, 0.7304, 0.2620, 0.3581],\n",
      "        [0.1345, 0.5460, 0.9285, 0.4208],\n",
      "        [0.0707, 0.3310, 0.1346, 0.1280]])\n",
      "\n",
      "Datatype of tensor: torch.float32\n",
      "Tensor shape: torch.Size([3, 4])\n",
      "Tensor Device: cpu\n"
     ]
    }
   ],
   "source": [
    "### Tensor Details\n",
    "print(some_tensor)\n",
    "print()\n",
    "print(f\"Datatype of tensor: {some_tensor.dtype}\")\n",
    "print(f\"Tensor shape: {some_tensor.shape}\")\n",
    "print(f\"Tensor Device: {some_tensor.device}\")"
   ]
  },
  {
   "cell_type": "markdown",
   "metadata": {},
   "source": [
    "### Manipulating Tensors ( Tensor Operations)\n",
    "\n",
    "Tensor Operations Include\n",
    "* Addition\n",
    "* Subtraction\n",
    "* Multiplication (element-wise)\n",
    "* Division\n",
    "* Matrix Multiplication"
   ]
  },
  {
   "cell_type": "code",
   "execution_count": 57,
   "metadata": {},
   "outputs": [
    {
     "data": {
      "text/plain": [
       "tensor([13, 14, 16])"
      ]
     },
     "execution_count": 57,
     "metadata": {},
     "output_type": "execute_result"
    }
   ],
   "source": [
    "### Create a tensor and add 10\n",
    "tensor = torch.tensor([3,4,6])\n",
    "tensor + 10\n"
   ]
  },
  {
   "cell_type": "code",
   "execution_count": 58,
   "metadata": {},
   "outputs": [
    {
     "data": {
      "text/plain": [
       "tensor([30, 40, 60])"
      ]
     },
     "execution_count": 58,
     "metadata": {},
     "output_type": "execute_result"
    }
   ],
   "source": [
    "### Multiply tensor by 10\n",
    "tensor * 10\n"
   ]
  },
  {
   "cell_type": "code",
   "execution_count": 59,
   "metadata": {},
   "outputs": [
    {
     "data": {
      "text/plain": [
       "tensor([-7, -6, -4])"
      ]
     },
     "execution_count": 59,
     "metadata": {},
     "output_type": "execute_result"
    }
   ],
   "source": [
    "# subtract 10\n",
    "tensor - 10"
   ]
  },
  {
   "cell_type": "code",
   "execution_count": 60,
   "metadata": {},
   "outputs": [
    {
     "data": {
      "text/plain": [
       "tensor([30, 40, 60])"
      ]
     },
     "execution_count": 60,
     "metadata": {},
     "output_type": "execute_result"
    }
   ],
   "source": [
    "### Using Pytorch In-built functions\n",
    "\n",
    "# multiplication\n",
    "torch.mul(tensor,10)"
   ]
  },
  {
   "cell_type": "code",
   "execution_count": 61,
   "metadata": {},
   "outputs": [
    {
     "data": {
      "text/plain": [
       "tensor([13, 14, 16])"
      ]
     },
     "execution_count": 61,
     "metadata": {},
     "output_type": "execute_result"
    }
   ],
   "source": [
    "### addition\n",
    "torch.add(tensor,10)"
   ]
  },
  {
   "cell_type": "code",
   "execution_count": null,
   "metadata": {},
   "outputs": [],
   "source": []
  },
  {
   "cell_type": "code",
   "execution_count": null,
   "metadata": {},
   "outputs": [],
   "source": []
  },
  {
   "cell_type": "code",
   "execution_count": null,
   "metadata": {},
   "outputs": [],
   "source": []
  },
  {
   "cell_type": "code",
   "execution_count": null,
   "metadata": {},
   "outputs": [],
   "source": []
  },
  {
   "cell_type": "code",
   "execution_count": null,
   "metadata": {},
   "outputs": [],
   "source": []
  },
  {
   "cell_type": "code",
   "execution_count": null,
   "metadata": {},
   "outputs": [],
   "source": []
  },
  {
   "cell_type": "code",
   "execution_count": null,
   "metadata": {},
   "outputs": [],
   "source": []
  }
 ],
 "metadata": {
  "kernelspec": {
   "display_name": "kigali",
   "language": "python",
   "name": "python3"
  },
  "language_info": {
   "codemirror_mode": {
    "name": "ipython",
    "version": 3
   },
   "file_extension": ".py",
   "mimetype": "text/x-python",
   "name": "python",
   "nbconvert_exporter": "python",
   "pygments_lexer": "ipython3",
   "version": "3.11.5"
  }
 },
 "nbformat": 4,
 "nbformat_minor": 2
}
